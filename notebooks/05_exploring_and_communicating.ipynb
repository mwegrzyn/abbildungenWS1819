{
 "cells": [
  {
   "cell_type": "markdown",
   "metadata": {
    "slideshow": {
     "slide_type": "slide"
    }
   },
   "source": [
    "# Visualizing data for exploration and communication"
   ]
  },
  {
   "cell_type": "markdown",
   "metadata": {
    "slideshow": {
     "slide_type": "slide"
    }
   },
   "source": [
    "![](http://style.org/images/stdp2/STDP2_095.jpg)  \n",
    "Jonathan Corum,  http://style.org/stdp2/"
   ]
  },
  {
   "cell_type": "markdown",
   "metadata": {
    "slideshow": {
     "slide_type": "slide"
    }
   },
   "source": [
    "![](http://style.org/images/stdp2/STDP2_096.jpg)  \n",
    "  \n",
    "Jonathan Corum,  http://style.org/stdp2/"
   ]
  },
  {
   "cell_type": "markdown",
   "metadata": {
    "slideshow": {
     "slide_type": "slide"
    }
   },
   "source": [
    "### import modules"
   ]
  },
  {
   "cell_type": "code",
   "execution_count": null,
   "metadata": {
    "slideshow": {
     "slide_type": "fragment"
    }
   },
   "outputs": [],
   "source": [
    "import pandas as pd\n",
    "import numpy as np\n",
    "\n",
    "import matplotlib.pyplot as plt\n",
    "import seaborn as sns"
   ]
  },
  {
   "cell_type": "markdown",
   "metadata": {
    "slideshow": {
     "slide_type": "fragment"
    }
   },
   "source": [
    "### set defaults for plotting"
   ]
  },
  {
   "cell_type": "code",
   "execution_count": null,
   "metadata": {
    "slideshow": {
     "slide_type": "fragment"
    }
   },
   "outputs": [],
   "source": [
    "sns.set_context('talk')\n",
    "sns.set_style('ticks')"
   ]
  },
  {
   "cell_type": "markdown",
   "metadata": {},
   "source": [
    "### define data"
   ]
  },
  {
   "cell_type": "code",
   "execution_count": null,
   "metadata": {},
   "outputs": [],
   "source": [
    "co2_df = pd.read_csv('../myData/co2Wikipedia.csv',index_col=[0])\n",
    "co2_df.tail()"
   ]
  },
  {
   "cell_type": "code",
   "execution_count": null,
   "metadata": {},
   "outputs": [],
   "source": [
    "pop_df = pd.read_csv('../myData/popWikipedia.csv', index_col=[0])\n",
    "pop_df.tail()"
   ]
  },
  {
   "cell_type": "code",
   "execution_count": null,
   "metadata": {},
   "outputs": [],
   "source": [
    "countries_df = pd.merge(co2_df, pop_df, on='Country')\n",
    "countries_df.index = countries_df.loc[:, 'Country']\n",
    "countries_df.tail()"
   ]
  },
  {
   "cell_type": "code",
   "execution_count": null,
   "metadata": {},
   "outputs": [],
   "source": [
    "countries_df = countries_df.loc[:, ['Population', 'FossilfuelCO2emissions(kt)in2015[8]']]\n",
    "countries_df.columns = ['population', 'co2']\n",
    "countries_df.loc[:,'population'] = countries_df.loc[:, 'population'] / 1000000000.\n",
    "countries_df.loc[:, 'co2'] = countries_df.loc[:, 'co2'] / 1000000.\n",
    "\n",
    "countries_df.tail()"
   ]
  },
  {
   "cell_type": "markdown",
   "metadata": {},
   "source": [
    "### simple plot"
   ]
  },
  {
   "cell_type": "code",
   "execution_count": null,
   "metadata": {},
   "outputs": [],
   "source": [
    "sns.scatterplot(data=countries_df, x='population', y='co2')"
   ]
  },
  {
   "cell_type": "markdown",
   "metadata": {},
   "source": [
    "### annotated plot"
   ]
  },
  {
   "cell_type": "code",
   "execution_count": null,
   "metadata": {},
   "outputs": [],
   "source": [
    "# Controls size and aspect ratio of the figure\n",
    "plt.figure(figsize=(16, 16))\n",
    "\n",
    "# Move through row names of the table\n",
    "for i in countries_df.index:\n",
    "\n",
    "    # For each iteration of the loop:\n",
    "\n",
    "    # Get population value for country i\n",
    "    x_val = countries_df.loc[i, 'population']\n",
    "    # Get co2 value for country i\n",
    "    y_val = countries_df.loc[i, 'co2']\n",
    "\n",
    "    # Plot the data points at x and y\n",
    "    plt.plot(x_val, y_val, 'o')\n",
    "    # Annotate the points\n",
    "    plt.annotate(\n",
    "        xy=(x_val, y_val),  # Position of annotation\n",
    "        s=i  # String printed for annotation\n",
    "    )\n",
    "\n",
    "# Range of axes\n",
    "plt.xlim(0, 1.5)\n",
    "plt.ylim(0, 15)\n",
    "\n",
    "# Label the axes\n",
    "plt.xlabel('population (billion)')\n",
    "plt.ylabel('CO2 emissions (millon kt)')\n",
    "# Title of plot\n",
    "plt.title('carbon dioxide emissions')\n",
    "\n",
    "sns.despine(\n",
    "    offset=10,  # Gap between x and y axis at origin\n",
    "    trim=True  # End axis at last 'tick'\n",
    ")\n",
    "\n",
    "# Show the figure\n",
    "plt.show()"
   ]
  },
  {
   "cell_type": "markdown",
   "metadata": {},
   "source": [
    "### Further explorations"
   ]
  },
  {
   "cell_type": "code",
   "execution_count": null,
   "metadata": {},
   "outputs": [],
   "source": [
    "ratio_df = pd.DataFrame(countries_df.loc[:, 'co2'] / countries_df.loc[:, 'population'])\n",
    "ratio_df.columns = ['co2/pop']\n",
    "ratio_df.sort_values(by='co2/pop', inplace=True, ascending=False)"
   ]
  },
  {
   "cell_type": "code",
   "execution_count": null,
   "metadata": {},
   "outputs": [],
   "source": [
    "fig, ax = plt.subplots(1, 1, figsize=(16, 8))\n",
    "sns.barplot(y=\"co2/pop\", x=ratio_df.index, data=ratio_df, ax=ax, color=\"b\")\n",
    "plt.xticks(rotation=90)\n",
    "plt.show()"
   ]
  },
  {
   "cell_type": "code",
   "execution_count": null,
   "metadata": {},
   "outputs": [],
   "source": [
    "fig, ax = plt.subplots(1, 1, figsize=(8, 16))\n",
    "sns.barplot(x=\"co2/pop\", y=ratio_df.index, data=ratio_df, ax=ax, color=\"b\")\n",
    "plt.show()"
   ]
  },
  {
   "cell_type": "code",
   "execution_count": null,
   "metadata": {},
   "outputs": [],
   "source": [
    "sns.set_color_codes('muted')"
   ]
  },
  {
   "cell_type": "code",
   "execution_count": null,
   "metadata": {},
   "outputs": [],
   "source": [
    "fig, ax = plt.subplots(1, 1, figsize=(8, 16))\n",
    "sns.barplot(x=\"co2/pop\", y=ratio_df.index, data=ratio_df, ax=ax, color=\"b\")\n",
    "sns.despine()\n",
    "plt.show()"
   ]
  },
  {
   "cell_type": "code",
   "execution_count": null,
   "metadata": {},
   "outputs": [],
   "source": [
    "fig, ax = plt.subplots(1, 1, figsize=(8, 16))\n",
    "sns.barplot(x=\"co2/pop\", y=ratio_df.index, data=ratio_df, ax=ax, color=\"b\")\n",
    "sns.despine(left=True)\n",
    "plt.show()"
   ]
  },
  {
   "cell_type": "code",
   "execution_count": null,
   "metadata": {},
   "outputs": [],
   "source": [
    "mean_ratio = ratio_df.loc[:, 'co2/pop'].mean()\n",
    "mean_ratio"
   ]
  },
  {
   "cell_type": "code",
   "execution_count": null,
   "metadata": {},
   "outputs": [],
   "source": [
    "fig, ax = plt.subplots(1, 1, figsize=(8, 16))\n",
    "sns.barplot(x=\"co2/pop\", y=ratio_df.index, data=ratio_df, ax=ax, color=\"b\")\n",
    "sns.despine(left=True)\n",
    "plt.axvline(mean_ratio, linestyle='dashed', color='k', linewidth=1)\n",
    "plt.show()"
   ]
  },
  {
   "cell_type": "code",
   "execution_count": null,
   "metadata": {},
   "outputs": [],
   "source": [
    "x = np.arange(0, 2.01, 0.1)\n",
    "y = [xi * mean_ratio for xi in x]\n",
    "\n",
    "plt.plot(x, y)"
   ]
  },
  {
   "cell_type": "code",
   "execution_count": null,
   "metadata": {},
   "outputs": [],
   "source": [
    "# Controls size and aspect ratio of the figure\n",
    "plt.figure(figsize=(16, 16))\n",
    "\n",
    "# Move through row names of the table\n",
    "for i in countries_df.index:\n",
    "\n",
    "    # For each iteration of the loop:\n",
    "\n",
    "    # Get population value for country i\n",
    "    x_val = countries_df.loc[i, 'population']\n",
    "    # Get co2 value for country i\n",
    "    y_val = countries_df.loc[i, 'co2']\n",
    "\n",
    "    # Plot the data points at x and y\n",
    "    plt.plot(x_val, y_val, 'o')\n",
    "    # Annotate the points\n",
    "    plt.annotate(\n",
    "        xy=(x_val, y_val),  # Position of annotation\n",
    "        s=i  # String printed for annotation\n",
    "    )\n",
    "\n",
    "# add average\n",
    "x = np.arange(0, 2.01, 0.1)\n",
    "y = [xi * mean_ratio for xi in x]\n",
    "\n",
    "plt.plot(x, y)\n",
    "\n",
    "# Range of axes\n",
    "plt.xlim(0, 1.5)\n",
    "plt.ylim(0, 15)\n",
    "\n",
    "# Label the axes\n",
    "plt.xlabel('population (billion)')\n",
    "plt.ylabel('CO2 emissions (millon kt)')\n",
    "# Title of plot\n",
    "plt.title('carbon dioxide emissions')\n",
    "\n",
    "sns.despine(\n",
    "    offset=10,  # Gap between x and y axis at origin\n",
    "    trim=True  # End axis at last 'tick'\n",
    ")\n",
    "\n",
    "# Show the figure\n",
    "plt.show()"
   ]
  },
  {
   "cell_type": "code",
   "execution_count": null,
   "metadata": {},
   "outputs": [],
   "source": [
    "def make_annot(i):\n",
    "\n",
    "    # Get population value for country i\n",
    "    x_val = countries_df.loc[i, 'population']\n",
    "    # Get co2 value for country i\n",
    "    y_val = countries_df.loc[i, 'co2']\n",
    "\n",
    "    # Plot the data points at x and y\n",
    "    plt.plot(x_val, y_val, 'o', markersize=10)\n",
    "    # Annotate the points\n",
    "    plt.annotate(\n",
    "        xy=(x_val, y_val),  # Position of annotation\n",
    "        s=i  # String printed for annotation\n",
    "    )"
   ]
  },
  {
   "cell_type": "code",
   "execution_count": null,
   "metadata": {},
   "outputs": [],
   "source": [
    "from ipywidgets import interact"
   ]
  },
  {
   "cell_type": "code",
   "execution_count": null,
   "metadata": {},
   "outputs": [],
   "source": [
    "interact(\n",
    "    make_annot, i=countries_df.index)"
   ]
  },
  {
   "cell_type": "code",
   "execution_count": null,
   "metadata": {
    "scrolled": false
   },
   "outputs": [],
   "source": [
    "def make_annot(i):\n",
    "\n",
    "    # Controls size and aspect ratio of the figure\n",
    "    plt.figure(figsize=(16, 16))\n",
    "\n",
    "    # Get population value for country i\n",
    "    x_val = countries_df.loc[i, 'population']\n",
    "    # Get co2 value for country i\n",
    "    y_val = countries_df.loc[i, 'co2']\n",
    "\n",
    "    # Plot the data points at x and y\n",
    "    plt.plot(x_val, y_val, 'o', markersize=10, c='r')\n",
    "    # Annotate the points\n",
    "    plt.annotate(\n",
    "        xy=(x_val, y_val),  # Position of annotation\n",
    "        s=i,  # String printed for annotation\n",
    "        fontsize=32,\n",
    "    )\n",
    "\n",
    "    # Get population value for all countries (rows)\n",
    "    x_vals = countries_df.loc[:, 'population']\n",
    "    # Get co2 value for all countries (rows)\n",
    "    y_vals = countries_df.loc[:, 'co2']\n",
    "\n",
    "    # Plot the data points at x and y\n",
    "    plt.plot(x_vals, y_vals, 'o', c='b', alpha=0.5)\n",
    "\n",
    "    # add average\n",
    "    x = np.arange(0, 2.01, 0.1)\n",
    "    y = [xi * mean_ratio for xi in x]\n",
    "\n",
    "    plt.plot(x, y)\n",
    "\n",
    "    # Range of axes\n",
    "    plt.xlim(0, 1.5)\n",
    "    plt.ylim(0, 15)\n",
    "\n",
    "    # Label the axes\n",
    "    plt.xlabel('population (billion)')\n",
    "    plt.ylabel('CO2 emissions (millon kt)')\n",
    "    # Title of plot\n",
    "    plt.title('carbon dioxide emissions')\n",
    "\n",
    "    sns.despine(\n",
    "        offset=10,  # Gap between x and y axis at origin\n",
    "        trim=True  # End axis at last 'tick'\n",
    "    )\n",
    "\n",
    "    # Show the figure\n",
    "    plt.show()"
   ]
  },
  {
   "cell_type": "code",
   "execution_count": null,
   "metadata": {},
   "outputs": [],
   "source": [
    "interact(\n",
    "    make_annot, i=countries_df.index)"
   ]
  },
  {
   "cell_type": "code",
   "execution_count": null,
   "metadata": {},
   "outputs": [],
   "source": [
    "def make_annot(i, my_xlim, my_ylim):\n",
    "\n",
    "    # Controls size and aspect ratio of the figure\n",
    "    plt.figure(figsize=(16, 16))\n",
    "\n",
    "    # Get population value for country i\n",
    "    x_val = countries_df.loc[i, 'population']\n",
    "    # Get co2 value for country i\n",
    "    y_val = countries_df.loc[i, 'co2']\n",
    "\n",
    "    # Plot the data points at x and y\n",
    "    plt.plot(x_val, y_val, 'o', markersize=10, c='r')\n",
    "    # Annotate the points\n",
    "    plt.annotate(\n",
    "        xy=(x_val, y_val),  # Position of annotation\n",
    "        s=i,  # String printed for annotation\n",
    "        fontsize=32,\n",
    "    )\n",
    "\n",
    "    # Get population value for all countries (rows)\n",
    "    x_vals = countries_df.loc[:, 'population']\n",
    "    # Get co2 value for all countries (rows)\n",
    "    y_vals = countries_df.loc[:, 'co2']\n",
    "\n",
    "    # Plot the data points at x and y\n",
    "    plt.plot(x_vals, y_vals, 'o', c='b', alpha=0.5)\n",
    "\n",
    "    # add average\n",
    "    x = np.arange(0, 2.01, 0.1)\n",
    "    y = [xi * mean_ratio for xi in x]\n",
    "\n",
    "    plt.plot(x, y)\n",
    "\n",
    "    # Range of axes\n",
    "    plt.xlim(0, my_xlim)\n",
    "    plt.ylim(0, my_ylim)\n",
    "\n",
    "    # Label the axes\n",
    "    plt.xlabel('population (billion)')\n",
    "    plt.ylabel('CO2 emissions (millon kt)')\n",
    "    # Title of plot\n",
    "    plt.title('carbon dioxide emissions')\n",
    "\n",
    "    sns.despine(\n",
    "        offset=10,  # Gap between x and y axis at origin\n",
    "        trim=True  # End axis at last 'tick'\n",
    "    )\n",
    "\n",
    "    # Show the figure\n",
    "    plt.show()"
   ]
  },
  {
   "cell_type": "code",
   "execution_count": null,
   "metadata": {},
   "outputs": [],
   "source": [
    "interact(\n",
    "    make_annot,\n",
    "    i=countries_df.index,\n",
    "    my_xlim=(0, 1.5, 0.1),\n",
    "    my_ylim=(0, 15, 1))"
   ]
  },
  {
   "cell_type": "code",
   "execution_count": null,
   "metadata": {},
   "outputs": [],
   "source": [
    "def make_annot(i, my_zoom):\n",
    "\n",
    "    # Controls size and aspect ratio of the figure\n",
    "    plt.figure(figsize=(16, 16))\n",
    "\n",
    "    # Get population value for country i\n",
    "    x_val = countries_df.loc[i, 'population']\n",
    "    # Get co2 value for country i\n",
    "    y_val = countries_df.loc[i, 'co2']\n",
    "\n",
    "    # Plot the data points at x and y\n",
    "    plt.plot(x_val, y_val, 'o', markersize=10, c='r')\n",
    "    # Annotate the points\n",
    "    plt.annotate(\n",
    "        xy=(x_val, y_val),  # Position of annotation\n",
    "        s=i,  # String printed for annotation\n",
    "        fontsize=32,\n",
    "    )\n",
    "\n",
    "    # Get population value for all countries (rows)\n",
    "    x_vals = countries_df.loc[:, 'population']\n",
    "    # Get co2 value for all countries (rows)\n",
    "    y_vals = countries_df.loc[:, 'co2']\n",
    "\n",
    "    # Plot the data points at x and y\n",
    "    plt.plot(x_vals, y_vals, 'o', c='b', alpha=0.5)\n",
    "\n",
    "    # add average\n",
    "    x = np.arange(0, 2.01, 0.1)\n",
    "    y = [xi * mean_ratio for xi in x]\n",
    "\n",
    "    plt.plot(x, y)\n",
    "\n",
    "    # Range of axes\n",
    "    plt.xlim(0, 1.5 / my_zoom)\n",
    "    plt.ylim(0, 15 / my_zoom)\n",
    "\n",
    "    # Label the axes\n",
    "    plt.xlabel('population (billion)')\n",
    "    plt.ylabel('CO2 emissions (millon kt)')\n",
    "    # Title of plot\n",
    "    plt.title('carbon dioxide emissions')\n",
    "\n",
    "    sns.despine()\n",
    "\n",
    "    # Show the figure\n",
    "    plt.show()"
   ]
  },
  {
   "cell_type": "code",
   "execution_count": null,
   "metadata": {},
   "outputs": [],
   "source": [
    "interact(\n",
    "    make_annot, \n",
    "    i=countries_df.index, \n",
    "    my_zoom=(1, 20, 1))"
   ]
  },
  {
   "cell_type": "code",
   "execution_count": null,
   "metadata": {},
   "outputs": [],
   "source": [
    "def make_annot(i, my_zoom):\n",
    "\n",
    "    # Controls size and aspect ratio of the figure\n",
    "    plt.figure(figsize=(16, 16))\n",
    "\n",
    "    # Get population value for country i\n",
    "    x_val = countries_df.loc[i, 'population']\n",
    "    # Get co2 value for country i\n",
    "    y_val = countries_df.loc[i, 'co2']\n",
    "\n",
    "    # Plot the data points at x and y\n",
    "    plt.plot(x_val, y_val, 'o', markersize=10, c='r')\n",
    "\n",
    "    # Annotate the points\n",
    "    plt.annotate(\n",
    "        xy=(x_val, y_val),  # Position of annotation\n",
    "        s=i,  # String printed for annotation\n",
    "        fontsize=32,\n",
    "    )\n",
    "\n",
    "    # Move through row names of the table\n",
    "    for j in countries_df.index:\n",
    "\n",
    "        # For each iteration of the loop:\n",
    "\n",
    "        # Get population value for country i\n",
    "        x_val = countries_df.loc[j, 'population']\n",
    "        # Get co2 value for country i\n",
    "        y_val = countries_df.loc[j, 'co2']\n",
    "\n",
    "        plt.annotate(\n",
    "            xy=(x_val, y_val),  # Position of annotation\n",
    "            s=j,  # String printed for annotation\n",
    "            alpha=0.9)\n",
    "\n",
    "    # Get population value for all countries (rows)\n",
    "    x_vals = countries_df.loc[:, 'population']\n",
    "    # Get co2 value for all countries (rows)\n",
    "    y_vals = countries_df.loc[:, 'co2']\n",
    "\n",
    "    # Plot the data points at x and y\n",
    "    plt.plot(x_vals, y_vals, 'o', c='b', alpha=0.5)\n",
    "\n",
    "    # add average\n",
    "    x = np.arange(0, 2.01, 0.1)\n",
    "    y = [xi * mean_ratio for xi in x]\n",
    "\n",
    "    plt.plot(x, y)\n",
    "\n",
    "    # Range of axes\n",
    "    plt.xlim(0, 1.5 / my_zoom)\n",
    "    plt.ylim(0, 15 / my_zoom)\n",
    "\n",
    "    # Label the axes\n",
    "    plt.xlabel('population (billion)')\n",
    "    plt.ylabel('CO2 emissions (millon kt)')\n",
    "    # Title of plot\n",
    "    plt.title('carbon dioxide emissions')\n",
    "\n",
    "    sns.despine()\n",
    "\n",
    "    # Show the figure\n",
    "    plt.show()"
   ]
  },
  {
   "cell_type": "code",
   "execution_count": null,
   "metadata": {},
   "outputs": [],
   "source": [
    "interact(\n",
    "    make_annot, \n",
    "    i=countries_df.index, \n",
    "    my_zoom=(1, 20, 1))"
   ]
  },
  {
   "cell_type": "code",
   "execution_count": null,
   "metadata": {},
   "outputs": [],
   "source": [
    "def make_annot(i, my_zoom):\n",
    "\n",
    "    # Controls size and aspect ratio of the figure\n",
    "    plt.figure(figsize=(16, 16))\n",
    "\n",
    "    # Get population value for country i\n",
    "    x_val = countries_df.loc[i, 'population']\n",
    "    # Get co2 value for country i\n",
    "    y_val = countries_df.loc[i, 'co2']\n",
    "\n",
    "    # Plot the data points at x and y\n",
    "    plt.plot(x_val, y_val, 'o', markersize=10, c='r')\n",
    "\n",
    "    # Annotate the points\n",
    "    plt.annotate(\n",
    "        xy=(x_val, y_val),  # Position of annotation\n",
    "        s=i,  # String printed for annotation\n",
    "        fontsize=32,\n",
    "    )\n",
    "\n",
    "    # Move through row names of the table\n",
    "    for j in countries_df.index.drop(i):\n",
    "\n",
    "        # For each iteration of the loop:\n",
    "\n",
    "        # Get population value for country i\n",
    "        x_val = countries_df.loc[j, 'population']\n",
    "        # Get co2 value for country i\n",
    "        y_val = countries_df.loc[j, 'co2']\n",
    "\n",
    "        plt.annotate(\n",
    "            xy=(x_val, y_val),  # Position of annotation\n",
    "            s=j,  # String printed for annotation\n",
    "            alpha=0.9)\n",
    "\n",
    "    # Get population value for all countries (rows)\n",
    "    x_vals = countries_df.loc[:, 'population']\n",
    "    # Get co2 value for all countries (rows)\n",
    "    y_vals = countries_df.loc[:, 'co2']\n",
    "\n",
    "    # Plot the data points at x and y\n",
    "    plt.plot(x_vals, y_vals, 'o', c='b', alpha=0.5)\n",
    "\n",
    "    # add average\n",
    "    x = np.arange(0, 2.01, 0.1)\n",
    "    y = [xi * mean_ratio for xi in x]\n",
    "\n",
    "    plt.plot(x, y)\n",
    "\n",
    "    # Range of axes\n",
    "    plt.xlim(0, 1.5 / my_zoom)\n",
    "    plt.ylim(0, 15 / my_zoom)\n",
    "\n",
    "    # Label the axes\n",
    "    plt.xlabel('population (billion)')\n",
    "    plt.ylabel('CO2 emissions (millon kt)')\n",
    "    # Title of plot\n",
    "    plt.title('carbon dioxide emissions')\n",
    "\n",
    "    sns.despine()\n",
    "\n",
    "    # Show the figure\n",
    "    plt.show()"
   ]
  },
  {
   "cell_type": "code",
   "execution_count": null,
   "metadata": {},
   "outputs": [],
   "source": [
    "interact(\n",
    "    make_annot, \n",
    "    i=countries_df.index, \n",
    "    my_zoom=(1, 20, 1))"
   ]
  }
 ],
 "metadata": {
  "kernelspec": {
   "display_name": "Python 3",
   "language": "python",
   "name": "python3"
  },
  "language_info": {
   "codemirror_mode": {
    "name": "ipython",
    "version": 3
   },
   "file_extension": ".py",
   "mimetype": "text/x-python",
   "name": "python",
   "nbconvert_exporter": "python",
   "pygments_lexer": "ipython3",
   "version": "3.6.6"
  },
  "varInspector": {
   "cols": {
    "lenName": 16,
    "lenType": 16,
    "lenVar": 40
   },
   "kernels_config": {
    "python": {
     "delete_cmd_postfix": "",
     "delete_cmd_prefix": "del ",
     "library": "var_list.py",
     "varRefreshCmd": "print(var_dic_list())"
    },
    "r": {
     "delete_cmd_postfix": ") ",
     "delete_cmd_prefix": "rm(",
     "library": "var_list.r",
     "varRefreshCmd": "cat(var_dic_list()) "
    }
   },
   "oldHeight": 202.683334,
   "position": {
    "height": "224.683px",
    "left": "2053.67px",
    "right": "175.5px",
    "top": "200px",
    "width": "330.833px"
   },
   "types_to_exclude": [
    "module",
    "function",
    "builtin_function_or_method",
    "instance",
    "_Feature"
   ],
   "varInspector_section_display": "block",
   "window_display": false
  }
 },
 "nbformat": 4,
 "nbformat_minor": 2
}
