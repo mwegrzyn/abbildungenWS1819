{
 "cells": [
  {
   "cell_type": "markdown",
   "metadata": {
    "slideshow": {
     "slide_type": "slide"
    }
   },
   "source": [
    "# Datenexploration und -visualisierung mit Python  \n",
    "\n",
    "![](https://proxy.duckduckgo.com/iu/?u=http%3A%2F%2Fwww.post-punk.com%2Fwp-content%2Fuploads%2F2014%2F09%2Fjoy-division-cambridge-encyclopedia-of-astronomy.jpg&f=1)  \n",
    "\n",
    "WS 2018/2019  \n",
    "27-Psy-IndErg Weitere Felder der Psychologie"
   ]
  },
  {
   "cell_type": "markdown",
   "metadata": {
    "slideshow": {
     "slide_type": "slide"
    }
   },
   "source": [
    "![](https://adtmag.com/articles/2017/09/07/~/media/ECG/adtmag/Images/2017/09/so_python.asxh)"
   ]
  },
  {
   "cell_type": "markdown",
   "metadata": {
    "slideshow": {
     "slide_type": "slide"
    }
   },
   "source": [
    "## *“An article about computational science in a scientific publication is not the scholarship itself, it is merely advertising of the scholarship. The actual scholarship is the complete software development environment and the complete set of instructions which generated the figures”*   \n",
    "### Buckheit and Donoho, 1995\n",
    "https://statweb.stanford.edu/~wavelab/Wavelab_850/wavelab.pdf"
   ]
  },
  {
   "cell_type": "markdown",
   "metadata": {
    "slideshow": {
     "slide_type": "slide"
    }
   },
   "source": [
    "![](https://proxy.duckduckgo.com/iu/?u=https%3A%2F%2Ftse3.mm.bing.net%2Fth%3Fid%3DOIP.TDLeIaF9hg0-Dl6OD5lyPQHaLL%26pid%3D15.1&f=1)  "
   ]
  },
  {
   "cell_type": "markdown",
   "metadata": {
    "slideshow": {
     "slide_type": "slide"
    }
   },
   "source": [
    "![](https://proxy.duckduckgo.com/iu/?u=https%3A%2F%2Fbids.berkeley.edu%2Fsites%2Fdefault%2Ffiles%2Fstyles%2F400x225%2Fpublic%2Fprojects%2Fjupyter_large.png%3Fitok%3Dq4uV_9qP&f=1)"
   ]
  },
  {
   "cell_type": "code",
   "execution_count": 3,
   "metadata": {
    "slideshow": {
     "slide_type": "-"
    }
   },
   "outputs": [],
   "source": [
    "%matplotlib inline\n",
    "import matplotlib.pyplot as plt\n",
    "import seaborn as sns\n",
    "\n",
    "import numpy as np\n",
    "\n",
    "import ipywidgets as widgets"
   ]
  },
  {
   "cell_type": "code",
   "execution_count": null,
   "metadata": {
    "slideshow": {
     "slide_type": "slide"
    }
   },
   "outputs": [],
   "source": [
    "def f(n):\n",
    "\n",
    "    x = np.arange(10)\n",
    "    y = x**n\n",
    "\n",
    "    plt.plot(x, y)\n",
    "\n",
    "    plt.xlim(0, 10)\n",
    "    plt.ylim(0, 100)\n",
    "    sns.despine()\n",
    "\n",
    "    plt.show()\n",
    "\n",
    "\n",
    "widgets.interact(\n",
    "    f, n=(1, 3, 0.1))"
   ]
  }
 ],
 "metadata": {
  "celltoolbar": "Slideshow",
  "kernelspec": {
   "display_name": "Python 3",
   "language": "python",
   "name": "python3"
  },
  "language_info": {
   "codemirror_mode": {
    "name": "ipython",
    "version": 3
   },
   "file_extension": ".py",
   "mimetype": "text/x-python",
   "name": "python",
   "nbconvert_exporter": "python",
   "pygments_lexer": "ipython3",
   "version": "3.6.6"
  },
  "varInspector": {
   "cols": {
    "lenName": 16,
    "lenType": 16,
    "lenVar": 40
   },
   "kernels_config": {
    "python": {
     "delete_cmd_postfix": "",
     "delete_cmd_prefix": "del ",
     "library": "var_list.py",
     "varRefreshCmd": "print(var_dic_list())"
    },
    "r": {
     "delete_cmd_postfix": ") ",
     "delete_cmd_prefix": "rm(",
     "library": "var_list.r",
     "varRefreshCmd": "cat(var_dic_list()) "
    }
   },
   "types_to_exclude": [
    "module",
    "function",
    "builtin_function_or_method",
    "instance",
    "_Feature"
   ],
   "window_display": false
  }
 },
 "nbformat": 4,
 "nbformat_minor": 2
}
